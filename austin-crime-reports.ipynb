{
 "cells": [
  {
   "cell_type": "code",
   "execution_count": 1,
   "metadata": {
    "collapsed": false
   },
   "outputs": [],
   "source": [
    "import pandas as pd\n",
    "from pyspark.sql import SparkSession\n",
    "from pyspark.context import SparkContext\n",
    "from pyspark.sql.types import *\n",
    "from pyspark.sql.functions import *\n",
    "from datetime import date, timedelta, datetime\n",
    "import time\n",
    "import pyspark.sql.functions as f"
   ]
  },
  {
   "cell_type": "code",
   "execution_count": 2,
   "metadata": {
    "collapsed": false
   },
   "outputs": [],
   "source": [
    "# initialize spark session\n",
    "sc = SparkSession.builder.appName(\"AustinCrimeReports\").config(\"spark.sql.shuffle.partitions\", \"50\").config(\"spark.driver.maxResultSize\",\"5g\").config(\"spark.sql.execution.arrow.enabled\", \"true\").getOrCreate()"
   ]
  },
  {
   "cell_type": "code",
   "execution_count": 3,
   "metadata": {
    "collapsed": false
   },
   "outputs": [
    {
     "name": "stdout",
     "output_type": "stream",
     "text": [
      "data read into dataframe\n"
     ]
    }
   ],
   "source": [
    "# read dataset into dataframe\n",
    "df = sc.read.option(\"header\",True).csv(\"Crime_Reports.csv\")\n",
    "print('data read into dataframe')"
   ]
  },
  {
   "cell_type": "code",
   "execution_count": 5,
   "metadata": {
    "collapsed": false
   },
   "outputs": [],
   "source": [
    "# drop duplicate records\n",
    "df = df.dropDuplicates()\n",
    "\n",
    "# drop unnecessary columns\n",
    "df.drop(\"council_district\",\"apd_sector\",\"apd_district\",\n",
    "               \"pra\",\"census_tract\",\"ucr_category\",\"category_description\",\n",
    "               \"x_coord\",\"y_coord\",\"highest_offense_code\",\"occurred_date_time\",\n",
    "               \"report_date_time\",\"clearance_date\",\"report_time\",\"occurred_time\")\n",
    "\n",
    "# filter out null values from occurred_date field\n",
    "df = df.filter(df.occurred_date.isNotNull())"
   ]
  },
  {
   "cell_type": "markdown",
   "metadata": {},
   "source": [
    "## Analysis"
   ]
  },
  {
   "cell_type": "code",
   "execution_count": 6,
   "metadata": {
    "collapsed": false
   },
   "outputs": [],
   "source": [
    "# number of various crimes changed over time\n",
    "\n",
    "df_clean = df.withColumn('year',f.year(f.to_timestamp('occurred_date','MM/dd/yyyy')))\n",
    "\n",
    "df_clean1 = df_clean.groupBy(\"highest_offense_description\", \"year\").count().orderBy(\"year\",\"highest_offense_description\",ascending=True)"
   ]
  },
  {
   "cell_type": "code",
   "execution_count": 7,
   "metadata": {
    "collapsed": false
   },
   "outputs": [
    {
     "name": "stdout",
     "output_type": "stream",
     "text": [
      "Number of crimes per year\n",
      "\n",
      "Number of arrests per year\n"
     ]
    }
   ],
   "source": [
    "# number arrests corresponding to the crimes changed over time\n",
    "\n",
    "print('Number of crimes per year')\n",
    "df_clean2 = df_clean.groupBy(\"year\").count().orderBy(\"year\")\n",
    "print()\n",
    "\n",
    "print('Number of arrests per year')\n",
    "df_clean3 = df_clean.where(\"clearance_status == 'C'\").groupBy(\"year\").count().orderBy(\"year\")"
   ]
  },
  {
   "cell_type": "code",
   "execution_count": 8,
   "metadata": {
    "collapsed": false
   },
   "outputs": [],
   "source": [
    "# top crimes committed\n",
    "df_clean4 = df_clean.groupBy('highest_offense_description').count().orderBy(desc(\"count\"))"
   ]
  },
  {
   "cell_type": "code",
   "execution_count": 9,
   "metadata": {
    "collapsed": false,
    "scrolled": true
   },
   "outputs": [],
   "source": [
    "# which locations are these frequent crimes being committed to?\n",
    "df_clean5 = df_clean.groupBy(\"location_type\").count().orderBy(desc(\"count\"))"
   ]
  },
  {
   "cell_type": "code",
   "execution_count": 10,
   "metadata": {
    "collapsed": false
   },
   "outputs": [],
   "source": [
    "# are there certain high crime locations for certain crimes?\n",
    "\n",
    "df_clean6 = df_clean.groupBy(\"highest_offense_description\", \"location_type\").count().sort(\"highest_offense_description\", \"location_type\")"
   ]
  },
  {
   "cell_type": "code",
   "execution_count": 11,
   "metadata": {
    "collapsed": false
   },
   "outputs": [
    {
     "name": "stdout",
     "output_type": "stream",
     "text": [
      "Amount of Car Burglaries per year\n",
      "\n",
      "Amount of Theft per year\n",
      "\n",
      "Possession of Marijuana per year\n",
      "\n",
      "Amount of Home Burglaries per year\n"
     ]
    }
   ],
   "source": [
    "# how has the number of certain crimes changed over the years in Austin?\n",
    "\n",
    "# car burglary\n",
    "print('Amount of Car Burglaries per year')\n",
    "df_clean7 = df_clean.where(\"highest_offense_description == 'BURGLARY OF VEHICLE'\").groupBy(\"year\").count().orderBy(\"year\")\n",
    "print()\n",
    "\n",
    "# theft\n",
    "print('Amount of Theft per year')\n",
    "df_clean8 = df_clean.where(\"highest_offense_description == 'THEFT'\").groupBy(\"year\").count().orderBy(\"year\")\n",
    "print()\n",
    "\n",
    "# possession of marijuana\n",
    "print('Possession of Marijuana per year')\n",
    "df_clean9 = df_clean.where(\"highest_offense_description == 'POSSESSION OF MARIJUANA'\").groupBy(\"year\").count().orderBy(\"year\")\n",
    "print()\n",
    "\n",
    "# home burglary\n",
    "print('Amount of Home Burglaries per year')\n",
    "df_clean10 = df_clean.where(\"highest_offense_description == 'BURGLARY OF RESIDENCE'\").groupBy(\"year\").count().orderBy(\"year\")"
   ]
  },
  {
   "cell_type": "code",
   "execution_count": 24,
   "metadata": {
    "collapsed": false
   },
   "outputs": [],
   "source": [
    "# save each query as a csv file for visualizations\n",
    "\n",
    "# df_clean1.toPandas().to_csv(\"results/1-crime-change-per-year.csv\")\n",
    "# df_clean2.toPandas().to_csv(\"results/2-crimes-per-year.csv\")\n",
    "# df_clean3.toPandas().to_csv(\"results/3-arrests-per-year.csv\")\n",
    "# df_clean4.toPandas().to_csv(\"results/4-top-crimes.csv\")\n",
    "# df_clean5.toPandas().to_csv(\"results/5-top-locations.csv\")\n",
    "# df_clean6.toPandas().to_csv(\"results/6-crimes-locations.csv\")\n",
    "# df_clean7.toPandas().to_csv(\"results/7-car-robberies-per-year.csv\")\n",
    "# df_clean8.toPandas().to_csv(\"results/8-theft-per-year.csv\")\n",
    "# df_clean9.toPandas().to_csv(\"results/9-weed-per-year.csv\")\n",
    "# df_clean10.toPandas().to_csv(\"results/10-home-robberies-per-year.csv\")"
   ]
  }
 ],
 "metadata": {
  "anaconda-cloud": {},
  "kernelspec": {
   "display_name": "Python [conda env:Anaconda3]",
   "language": "python",
   "name": "conda-env-Anaconda3-py"
  },
  "language_info": {
   "codemirror_mode": {
    "name": "ipython",
    "version": 3
   },
   "file_extension": ".py",
   "mimetype": "text/x-python",
   "name": "python",
   "nbconvert_exporter": "python",
   "pygments_lexer": "ipython3",
   "version": "3.5.6"
  }
 },
 "nbformat": 4,
 "nbformat_minor": 1
}
